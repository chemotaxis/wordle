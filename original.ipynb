{
 "cells": [
  {
   "cell_type": "code",
   "execution_count": 1,
   "id": "c83d2149-48e6-4a6d-ba95-4d68752b0b1e",
   "metadata": {},
   "outputs": [],
   "source": [
    "import fileinput\n",
    "import string\n",
    "from collections import defaultdict\n",
    "from itertools import filterfalse"
   ]
  },
  {
   "cell_type": "code",
   "execution_count": 57,
   "id": "4b32e347-bf62-4d20-bff7-8b06ae961deb",
   "metadata": {},
   "outputs": [
    {
     "name": "stdout",
     "output_type": "stream",
     "text": [
      "All words: 370,105\n"
     ]
    }
   ],
   "source": [
    "words = [word.strip() for word in fileinput.input('words_alpha.txt')]\n",
    "print(f'All words: {len(words):,}')"
   ]
  },
  {
   "cell_type": "code",
   "execution_count": 58,
   "id": "96afe925-aa65-4300-9b89-d6b2b69bae5a",
   "metadata": {},
   "outputs": [
    {
     "name": "stdout",
     "output_type": "stream",
     "text": [
      "Words with five letters: 15,920\n"
     ]
    }
   ],
   "source": [
    "five_letters = [word for word in words if len(word) == 5]\n",
    "letters = defaultdict(set)\n",
    "for ch in string.ascii_lowercase:\n",
    "    for word in five_letters:\n",
    "        if ch in word:\n",
    "            letters[ch].add(word)\n",
    "print(f'Words with five letters: {len(five_letters):,}')"
   ]
  },
  {
   "cell_type": "code",
   "execution_count": 59,
   "id": "c72bbd31-c35c-4313-883d-8f3c6c580cf3",
   "metadata": {},
   "outputs": [],
   "source": [
    "include = {'r', 'o'}\n",
    "exclude = {'u', 'g', 'e', 'b', 'a', 'd'}"
   ]
  },
  {
   "cell_type": "code",
   "execution_count": 61,
   "id": "c3a9afba-2202-4a64-9373-4088b0a631c3",
   "metadata": {},
   "outputs": [
    {
     "name": "stdout",
     "output_type": "stream",
     "text": [
      "Words that include {'r', 'o'}: 1,336\n",
      "Words that include {'r', 'o'}, but exclude {'a', 'e', 'g', 'd', 'u', 'b'}: 305\n"
     ]
    },
    {
     "data": {
      "text/plain": [
       "['stork', 'storm', 'story']"
      ]
     },
     "execution_count": 61,
     "metadata": {},
     "output_type": "execute_result"
    }
   ],
   "source": [
    "possible = set(words)\n",
    "for ch in include:\n",
    "    possible &= letters[ch]\n",
    "    \n",
    "print(f'Words that include {include}: {len(possible):,}')\n",
    "for ch in exclude:\n",
    "    possible -= letters[ch]\n",
    "    \n",
    "print(f'Words that include {include}, but exclude {exclude}: {len(possible):,}')\n",
    "\n",
    "possible = sorted(list(possible))\n",
    "\n",
    "possible = filter(possible, lambda word: not word.startswith('ro'))\n",
    "possible = filter(possible, lambda word: len(set(word)) == len(word))\n",
    "possible = filter(possible, lambda word: word[1] != 'b' and word[3] == 'r')\n",
    "possible = filter(possible, lambda word: word.startswith('stor'))\n",
    "possible"
   ]
  }
 ],
 "metadata": {
  "kernelspec": {
   "display_name": "Python 3 (ipykernel)",
   "language": "python",
   "name": "python3"
  },
  "language_info": {
   "codemirror_mode": {
    "name": "ipython",
    "version": 3
   },
   "file_extension": ".py",
   "mimetype": "text/x-python",
   "name": "python",
   "nbconvert_exporter": "python",
   "pygments_lexer": "ipython3",
   "version": "3.10.4"
  }
 },
 "nbformat": 4,
 "nbformat_minor": 5
}
