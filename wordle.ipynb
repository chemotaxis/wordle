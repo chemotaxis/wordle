{
 "cells": [
  {
   "cell_type": "code",
   "execution_count": 6,
   "id": "c83d2149-48e6-4a6d-ba95-4d68752b0b1e",
   "metadata": {},
   "outputs": [],
   "source": [
    "import fileinput\n",
    "import string\n",
    "from collections import defaultdict, Counter\n",
    "from itertools import filterfalse\n",
    "import random"
   ]
  },
  {
   "cell_type": "markdown",
   "id": "92b6a362-d977-4f36-8945-0bd1d2ac7f25",
   "metadata": {},
   "source": [
    "https://www.nytimes.com/games/wordle/index.html"
   ]
  },
  {
   "cell_type": "code",
   "execution_count": 26,
   "id": "a87639a9-fd41-490a-82f5-6872fcab8b90",
   "metadata": {},
   "outputs": [],
   "source": [
    "def inc_exc(words, include, exclude):\n",
    "    include, exclude = set(include), set(exclude)\n",
    "    possible = set(words)\n",
    "    \n",
    "    for ch in include:\n",
    "        possible &= letters[ch]\n",
    "\n",
    "    print(f'Words that include {include}: {len(possible):,}')\n",
    "    for ch in exclude:\n",
    "        possible -= letters[ch]\n",
    "\n",
    "    print(f'Words that include {include}, but exclude {exclude}: {len(possible):,}')\n",
    "    \n",
    "    return possible"
   ]
  },
  {
   "cell_type": "code",
   "execution_count": 2,
   "id": "4b32e347-bf62-4d20-bff7-8b06ae961deb",
   "metadata": {},
   "outputs": [
    {
     "name": "stdout",
     "output_type": "stream",
     "text": [
      "All words: 370,105\n"
     ]
    }
   ],
   "source": [
    "words = [word.strip() for word in fileinput.input('words_alpha.txt')]\n",
    "print(f'All words: {len(words):,}')"
   ]
  },
  {
   "cell_type": "markdown",
   "id": "3fde6880-f1fb-4409-94f8-a3f1703e40be",
   "metadata": {},
   "source": [
    "## Guesses"
   ]
  },
  {
   "cell_type": "markdown",
   "id": "51deeaa0-71b9-49b2-b764-6e4651f43ca7",
   "metadata": {},
   "source": [
    "### Method 1: Uniformally random word"
   ]
  },
  {
   "cell_type": "code",
   "execution_count": 3,
   "id": "59425528-a18a-42ef-a496-56ae2394ba2a",
   "metadata": {},
   "outputs": [],
   "source": [
    "distinct_letters = list(filter(lambda word: len(set(word)) == len(word) == 5, words))"
   ]
  },
  {
   "cell_type": "code",
   "execution_count": 4,
   "id": "423f1404-887f-41e7-9fcf-0bd918a7b3aa",
   "metadata": {},
   "outputs": [
    {
     "data": {
      "text/plain": [
       "'unapt'"
      ]
     },
     "execution_count": 4,
     "metadata": {},
     "output_type": "execute_result"
    }
   ],
   "source": [
    "random.choice(distinct_letters)"
   ]
  },
  {
   "cell_type": "markdown",
   "id": "e657f678-f9b5-4ee0-91d3-1ad6b930ebf0",
   "metadata": {},
   "source": [
    "### Method 2: Pick words with letters that occur the most\n",
    "\n",
    "The end goal is to eliminate as many words as possible.  For the first guess, if we pick a word that has letters that occur the most, we can see if any of those letters can be discarded.  Because we used the most frequently used letters, we theoretically eliminate more words per letter using these letters."
   ]
  },
  {
   "cell_type": "code",
   "execution_count": 15,
   "id": "4ab5433e-9fd1-4eb6-a638-eeac92c9f4e9",
   "metadata": {},
   "outputs": [],
   "source": [
    "five_letters = [word for word in words if len(word) == 5]\n",
    "hist = Counter()\n",
    "for word in five_letters:\n",
    "    for ch in word:\n",
    "        hist[ch] += 1"
   ]
  },
  {
   "cell_type": "code",
   "execution_count": 20,
   "id": "d3a39b83-caa8-4cd8-bb58-02934e1a7767",
   "metadata": {},
   "outputs": [
    {
     "data": {
      "text/plain": [
       "[('a', 8393),\n",
       " ('e', 7802),\n",
       " ('s', 6537),\n",
       " ('o', 5219),\n",
       " ('r', 5144),\n",
       " ('i', 5067),\n",
       " ('l', 4247),\n",
       " ('t', 4189),\n",
       " ('n', 4044),\n",
       " ('u', 3361)]"
      ]
     },
     "execution_count": 20,
     "metadata": {},
     "output_type": "execute_result"
    }
   ],
   "source": [
    "hist.most_common(10)"
   ]
  },
  {
   "cell_type": "code",
   "execution_count": 30,
   "id": "4115af47-487c-4ba1-b5c6-195d414b682e",
   "metadata": {},
   "outputs": [
    {
     "name": "stdout",
     "output_type": "stream",
     "text": [
      "Words that include {'e', 's', 'o', 'a', 'r'}: 3\n",
      "Words that include {'e', 's', 'o', 'a', 'r'}, but exclude set(): 3\n"
     ]
    },
    {
     "data": {
      "text/plain": [
       "{'arose', 'oreas', 'seora'}"
      ]
     },
     "execution_count": 30,
     "metadata": {},
     "output_type": "execute_result"
    }
   ],
   "source": [
    "possible = inc_exc(words, 'aesor', '')\n",
    "possible"
   ]
  },
  {
   "cell_type": "markdown",
   "id": "0b5dd5bc-d094-4e05-9c73-4b728cede234",
   "metadata": {},
   "source": [
    "## Filter words"
   ]
  },
  {
   "cell_type": "code",
   "execution_count": 21,
   "id": "96afe925-aa65-4300-9b89-d6b2b69bae5a",
   "metadata": {},
   "outputs": [
    {
     "name": "stdout",
     "output_type": "stream",
     "text": [
      "Words with five letters: 15,920\n"
     ]
    }
   ],
   "source": [
    "five_letters = [word for word in words if len(word) == 5]\n",
    "letters = defaultdict(set)\n",
    "for ch in string.ascii_lowercase:\n",
    "    for word in five_letters:\n",
    "        if ch in word:\n",
    "            letters[ch].add(word)\n",
    "print(f'Words with five letters: {len(five_letters):,}')"
   ]
  },
  {
   "cell_type": "code",
   "execution_count": 34,
   "id": "05292064-fb83-4300-80aa-9804b7709680",
   "metadata": {},
   "outputs": [
    {
     "name": "stdout",
     "output_type": "stream",
     "text": [
      "Words that include {'a', 't', 'n'}: 302\n",
      "Words that include {'a', 't', 'n'}, but exclude {'u', 'p'}: 246\n"
     ]
    }
   ],
   "source": [
    "possible = inc_exc(words, 'ant', 'pu')"
   ]
  },
  {
   "cell_type": "code",
   "execution_count": 37,
   "id": "c3a9afba-2202-4a64-9373-4088b0a631c3",
   "metadata": {},
   "outputs": [
    {
     "name": "stdout",
     "output_type": "stream",
     "text": [
      "24\n"
     ]
    },
    {
     "data": {
      "text/plain": [
       "['etang',\n",
       " 'neath',\n",
       " 'neats',\n",
       " 'niata',\n",
       " 'stain',\n",
       " 'stand',\n",
       " 'stane',\n",
       " 'stang',\n",
       " 'stank',\n",
       " 'starn',\n",
       " 'stawn',\n",
       " 'thana',\n",
       " 'thane',\n",
       " 'thank',\n",
       " 'thatn',\n",
       " 'thawn',\n",
       " 'tiang',\n",
       " 'train',\n",
       " 'trank',\n",
       " 'trans',\n",
       " 'twain',\n",
       " 'twana',\n",
       " 'twang',\n",
       " 'twank']"
      ]
     },
     "execution_count": 37,
     "metadata": {},
     "output_type": "execute_result"
    }
   ],
   "source": [
    "possible = sorted(list(possible))\n",
    "\n",
    "possible = list(filter(lambda word: word[2] == 'a', possible))\n",
    "possible = list(filter(lambda word: word[1] != 'n' and word[4] != 't', possible))\n",
    "\n",
    "print(len(possible))\n",
    "possible"
   ]
  },
  {
   "cell_type": "markdown",
   "id": "479857b6-bed6-4fce-b684-d94317fe8dc9",
   "metadata": {},
   "source": [
    "## Save results"
   ]
  },
  {
   "cell_type": "code",
   "execution_count": 124,
   "id": "33490777-7888-4280-974c-7d80feba890b",
   "metadata": {},
   "outputs": [],
   "source": [
    "import sqlite3\n",
    "\n",
    "con = sqlite3.connect('wordle.db')\n",
    "cur = con.cursor()"
   ]
  },
  {
   "cell_type": "code",
   "execution_count": 125,
   "id": "a0c92d3f-92be-40b4-9d47-cca2d10ee180",
   "metadata": {},
   "outputs": [
    {
     "name": "stdout",
     "output_type": "stream",
     "text": [
      "[('319', '2022-05-04', 'unapt\\ntrain', 'Wordle 319 2/6*\\n\\n⬜🟨🟩⬜🟨\\n🟩🟩🟩🟩🟩', 'Wordle 319 2/6*\\n\\n⬜🟦🟧⬜🟦\\n🟧🟧🟧🟧🟧')]\n"
     ]
    }
   ],
   "source": [
    "res = cur.execute('''SELECT * FROM results''').fetchall()\n",
    "print(res)"
   ]
  },
  {
   "cell_type": "markdown",
   "id": "0f1a41b0-ece1-4346-bc98-6e5ebb94f1cb",
   "metadata": {},
   "source": [
    "### Create table\n",
    "\n",
    "Only need to do once.  Uncomment to execute."
   ]
  },
  {
   "cell_type": "code",
   "execution_count": 119,
   "id": "36b3f029-8188-4257-8831-3b636d4ec0cf",
   "metadata": {},
   "outputs": [],
   "source": [
    "# cur.execute('''\n",
    "# CREATE TABLE results \n",
    "# (wordle, date, words, regular, high_contrast)\n",
    "# ''')\n",
    "# con.commit()"
   ]
  },
  {
   "cell_type": "markdown",
   "id": "416f5381-8999-482f-b6c5-38bc876496ea",
   "metadata": {},
   "source": [
    "### Save result\n",
    "\n",
    "To keep it simple, everything is stored as TEXT."
   ]
  },
  {
   "cell_type": "code",
   "execution_count": 120,
   "id": "45244937-5569-4050-a6b1-59f9c0fa6d4f",
   "metadata": {},
   "outputs": [
    {
     "data": {
      "text/plain": [
       "<sqlite3.Cursor at 0x10dc41940>"
      ]
     },
     "execution_count": 120,
     "metadata": {},
     "output_type": "execute_result"
    }
   ],
   "source": [
    "cur.execute('''\n",
    "INSERT INTO results VALUES (\n",
    "'319', '2022-05-04', \n",
    "'unapt\n",
    "train', \n",
    "'Wordle 319 2/6*\n",
    "\n",
    "⬜🟨🟩⬜🟨\n",
    "🟩🟩🟩🟩🟩', \n",
    "'Wordle 319 2/6*\n",
    "\n",
    "⬜🟦🟧⬜🟦\n",
    "🟧🟧🟧🟧🟧'\n",
    ")''')\n",
    "\n",
    "# con.commit()"
   ]
  },
  {
   "cell_type": "markdown",
   "id": "55d8b1ac-d8d9-4fbb-b4c8-90b5fb604614",
   "metadata": {},
   "source": [
    "### SQL utilities"
   ]
  },
  {
   "cell_type": "code",
   "execution_count": 121,
   "id": "a48d52fa-fdd6-4909-8910-9aabb68f4f2f",
   "metadata": {},
   "outputs": [
    {
     "name": "stdout",
     "output_type": "stream",
     "text": [
      "[('319', '2022-05-04', 'unapt\\ntrain', 'Wordle 319 2/6*\\n\\n⬜🟨🟩⬜🟨\\n🟩🟩🟩🟩🟩', 'Wordle 319 2/6*\\n\\n⬜🟦🟧⬜🟦\\n🟧🟧🟧🟧🟧'), ('319', '2022-05-04', 'unapt\\ntrain', 'Wordle 319 2/6*\\n\\n⬜🟨🟩⬜🟨\\n🟩🟩🟩🟩🟩', 'Wordle 319 2/6*\\n\\n⬜🟦🟧⬜🟦\\n🟧🟧🟧🟧🟧')]\n"
     ]
    }
   ],
   "source": [
    "# select statements can be used as iterators or use 'fetchone' and 'fetchall' to retrieve the first matched row or a list of matched rows, respectively.\n",
    "results = cur.execute('''SELECT * FROM results''').fetchall()\n",
    "print(results)"
   ]
  },
  {
   "cell_type": "code",
   "execution_count": 122,
   "id": "929e9663-f30f-477e-8e5f-349fdb65c56c",
   "metadata": {},
   "outputs": [],
   "source": [
    "# cur.execute('''DELETE FROM results WHERE rowid=2''')\n",
    "# con.commit()"
   ]
  },
  {
   "cell_type": "code",
   "execution_count": 123,
   "id": "c2fe2ff7-f095-47a4-8e79-4d4381e28d71",
   "metadata": {},
   "outputs": [],
   "source": [
    "# close connection to database\n",
    "con.close()"
   ]
  }
 ],
 "metadata": {
  "kernelspec": {
   "display_name": "Python 3 (ipykernel)",
   "language": "python",
   "name": "python3"
  },
  "language_info": {
   "codemirror_mode": {
    "name": "ipython",
    "version": 3
   },
   "file_extension": ".py",
   "mimetype": "text/x-python",
   "name": "python",
   "nbconvert_exporter": "python",
   "pygments_lexer": "ipython3",
   "version": "3.10.4"
  }
 },
 "nbformat": 4,
 "nbformat_minor": 5
}
